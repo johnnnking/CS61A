{
 "cells": [
  {
   "cell_type": "code",
   "execution_count": 37,
   "id": "773edb12",
   "metadata": {},
   "outputs": [],
   "source": [
    "def missing_digits(n):\n",
    "    \"\"\"Given a number a that is in sorted, increasing order,\n",
    "    return the number of missing digits in n. A missing digit is\n",
    "    a number between the first and last digit of a that is not in n.\n",
    "    >>> missing_digits(1248) # 3, 5, 6, 7\n",
    "    4\n",
    "    >>> missing_digits(1122) # No missing numbers\n",
    "    0\n",
    "    >>> missing_digits(123456) # No missing numbers\n",
    "    0\n",
    "    >>> missing_digits(3558) # 4, 6, 7\n",
    "    3\n",
    "    >>> missing_digits(35578) # 4, 6\n",
    "    2\n",
    "    >>> missing_digits(12456) # 3\n",
    "    1\n",
    "    >>> missing_digits(16789) # 2, 3, 4, 5\n",
    "    4\n",
    "    >>> missing_digits(19) # 2, 3, 4, 5, 6, 7, 8\n",
    "    7\n",
    "    >>> missing_digits(4) # No missing numbers between 4 and 4\n",
    "    0\n",
    "    >>> from construct_check import check\n",
    "    >>> # ban while or for loops\n",
    "    >>> check(HW_SOURCE_FILE, 'missing_digits', ['While', 'For'])\n",
    "    True\n",
    "    \"\"\"\n",
    "    \"*** YOUR CODE HERE ***\"\n",
    "    def helper(state=0,n=n):\n",
    "        if n < 10:\n",
    "#             print(\"state:\",state)\n",
    "            return state\n",
    "        gap = (n % 10) - ((n//10) % 10)\n",
    "        if gap <= 1:\n",
    "            return helper(state,n // 10)\n",
    "        else:\n",
    "            return helper(state + gap - 1,n // 10)\n",
    "    return helper()"
   ]
  },
  {
   "cell_type": "code",
   "execution_count": 38,
   "id": "21517810",
   "metadata": {},
   "outputs": [],
   "source": [
    "missing_digits(1248)"
   ]
  },
  {
   "cell_type": "code",
   "execution_count": 34,
   "id": "43501ccd",
   "metadata": {},
   "outputs": [],
   "source": [
    "x"
   ]
  },
  {
   "cell_type": "code",
   "execution_count": 41,
   "id": "2bddf290",
   "metadata": {},
   "outputs": [],
   "source": [
    "import numpy as np\n",
    "def count_change(total):\n",
    "    \"\"\"Return the number of ways to make change for total.\n",
    "\n",
    "    >>> count_change(7)\n",
    "    6\n",
    "    >>> count_change(10)\n",
    "    14\n",
    "    >>> count_change(20)\n",
    "    60\n",
    "    >>> count_change(100)\n",
    "    9828\n",
    "    >>> from construct_check import check\n",
    "    >>> # ban iteration\n",
    "    >>> check(HW_SOURCE_FILE, 'count_change', ['While', 'For'])\n",
    "    True\n",
    "    \"\"\"\n",
    "    \"*** YOUR CODE HERE ***\"\n",
    "    m = 2**int(np.log2(total))\n",
    "    def helper(m,total = total):\n",
    "        if total == 0:\n",
    "            return 1\n",
    "        elif total < 0:\n",
    "            return 0\n",
    "        elif m==1:\n",
    "            return total\n",
    "        return helper(m,total-m) + helper(m // 2, total)\n",
    "    return helper(m)"
   ]
  },
  {
   "cell_type": "code",
   "execution_count": 42,
   "id": "3801191f",
   "metadata": {},
   "outputs": [
    {
     "data": {
      "text/plain": [
       "16"
      ]
     },
     "execution_count": 42,
     "metadata": {},
     "output_type": "execute_result"
    }
   ],
   "source": [
    "count_change(6)"
   ]
  },
  {
   "cell_type": "code",
   "execution_count": 50,
   "id": "4d600ea8",
   "metadata": {},
   "outputs": [],
   "source": [
    " m = 2**int(np.log2(7))"
   ]
  },
  {
   "cell_type": "code",
   "execution_count": 51,
   "id": "b7b561a5",
   "metadata": {},
   "outputs": [
    {
     "data": {
      "text/plain": [
       "4"
      ]
     },
     "execution_count": 51,
     "metadata": {},
     "output_type": "execute_result"
    }
   ],
   "source": [
    "m"
   ]
  },
  {
   "cell_type": "code",
   "execution_count": null,
   "id": "9975b6d9",
   "metadata": {},
   "outputs": [],
   "source": []
  }
 ],
 "metadata": {
  "kernelspec": {
   "display_name": "Python 3 (ipykernel)",
   "language": "python",
   "name": "python3"
  },
  "language_info": {
   "codemirror_mode": {
    "name": "ipython",
    "version": 3
   },
   "file_extension": ".py",
   "mimetype": "text/x-python",
   "name": "python",
   "nbconvert_exporter": "python",
   "pygments_lexer": "ipython3",
   "version": "3.11.5"
  }
 },
 "nbformat": 4,
 "nbformat_minor": 5
}
